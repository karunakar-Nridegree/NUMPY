{
  "nbformat": 4,
  "nbformat_minor": 0,
  "metadata": {
    "colab": {
      "provenance": [],
      "authorship_tag": "ABX9TyOlSzeuJeubcF4iFR4g3oL9",
      "include_colab_link": true
    },
    "kernelspec": {
      "name": "python3",
      "display_name": "Python 3"
    },
    "language_info": {
      "name": "python"
    }
  },
  "cells": [
    {
      "cell_type": "markdown",
      "metadata": {
        "id": "view-in-github",
        "colab_type": "text"
      },
      "source": [
        "<a href=\"https://colab.research.google.com/github/karunakar-Nridegree/NUMPY/blob/main/Numpy_1.ipynb\" target=\"_parent\"><img src=\"https://colab.research.google.com/assets/colab-badge.svg\" alt=\"Open In Colab\"/></a>"
      ]
    },
    {
      "cell_type": "code",
      "execution_count": 32,
      "metadata": {
        "id": "gbp4JDmktvn9"
      },
      "outputs": [],
      "source": [
        "#Numpy - Numeric python\n",
        "#most powerful package library\n",
        "#Numpy Dimensions\n",
        "\n",
        "\n",
        "#A - One Dimensional Array\n",
        "#[A,B] ||[A\n",
        "#         B ] Two Dimensional array row ||column\n",
        "#three Dimensional\n",
        "#Array - storing ,manipulating,similar data type\n",
        "#faster than any mathematical functions\n",
        "#convinient compared to other package\n",
        "# memory efficiency\n",
        "# support multi dimensional arrays\n",
        "\n",
        "\n",
        "\n",
        "# speed(numpy operations) > speed (lists operations)\n",
        "# size(numpy operations) > size (lists operations)\n",
        "# memory Optimization (numpy) > memory Optimization (list operations)"
      ]
    },
    {
      "cell_type": "code",
      "source": [
        "# Install numpy - pip3 install numpy // pip install numpy"
      ],
      "metadata": {
        "id": "BTTx3Bxr_P7I"
      },
      "execution_count": 31,
      "outputs": []
    },
    {
      "cell_type": "code",
      "source": [
        "import numpy as np"
      ],
      "metadata": {
        "id": "B3VQW-CUv9NI"
      },
      "execution_count": 1,
      "outputs": []
    },
    {
      "cell_type": "code",
      "source": [
        "arr1D = np.array([1,2,3,4,5])\n",
        "print(arr1D)"
      ],
      "metadata": {
        "colab": {
          "base_uri": "https://localhost:8080/"
        },
        "id": "rA3UGNGIwQt2",
        "outputId": "3ee8c059-e41b-4685-b6b0-56de1ecbf7ee"
      },
      "execution_count": 3,
      "outputs": [
        {
          "output_type": "stream",
          "name": "stdout",
          "text": [
            "[1 2 3 4 5]\n"
          ]
        }
      ]
    },
    {
      "cell_type": "code",
      "source": [
        "arr2D = np.array([[1,2,3],[4,5,5]])\n",
        "print(arr2D)"
      ],
      "metadata": {
        "colab": {
          "base_uri": "https://localhost:8080/"
        },
        "id": "YulB5E1JwphD",
        "outputId": "db066940-b253-4844-f3e0-7f9ad21141da"
      },
      "execution_count": 4,
      "outputs": [
        {
          "output_type": "stream",
          "name": "stdout",
          "text": [
            "[[1 2 3]\n",
            " [4 5 5]]\n"
          ]
        }
      ]
    },
    {
      "cell_type": "code",
      "source": [
        "#default values\n",
        "allzero = np.zeros((2,3))\n",
        "print(allzero)\n",
        "\n",
        "#default values\n",
        "allones = np.ones((2,3))\n",
        "print(allones)\n",
        "\n",
        "\n",
        "#default values\n",
        "allconstant = np.full((2,3),6)\n",
        "print(allconstant)"
      ],
      "metadata": {
        "colab": {
          "base_uri": "https://localhost:8080/"
        },
        "id": "s6nA-gQcy1r2",
        "outputId": "5c68b564-91c6-4d2a-e900-46daee17429a"
      },
      "execution_count": 12,
      "outputs": [
        {
          "output_type": "stream",
          "name": "stdout",
          "text": [
            "[[0. 0. 0.]\n",
            " [0. 0. 0.]]\n",
            "[[1. 1. 1.]\n",
            " [1. 1. 1.]]\n",
            "[[6 6 6]\n",
            " [6 6 6]]\n"
          ]
        }
      ]
    },
    {
      "cell_type": "code",
      "source": [
        "# create an identity matrix - I square matrix\n",
        "identity = np.eye(4)\n",
        "print(identity)\n",
        "\n",
        "#Identity matrix - Aii = 1 && Aij = 0\n",
        "#For all A Belongs to R MxN\n",
        "# Aij-"
      ],
      "metadata": {
        "colab": {
          "base_uri": "https://localhost:8080/"
        },
        "id": "e_n4jrfw0jh3",
        "outputId": "be831e6e-f880-4163-97d1-b6f88382448c"
      },
      "execution_count": 14,
      "outputs": [
        {
          "output_type": "stream",
          "name": "stdout",
          "text": [
            "[[1. 0. 0. 0.]\n",
            " [0. 1. 0. 0.]\n",
            " [0. 0. 1. 0.]\n",
            " [0. 0. 0. 1.]]\n"
          ]
        }
      ]
    },
    {
      "cell_type": "code",
      "source": [
        "#crateing random matrices\n",
        " # with 0 to 1\n",
        "rand1 = np.random.rand(3,3)\n",
        "print(rand1)\n",
        "\n",
        "\n",
        "# between a and b\n",
        "rand2 = np.random.randint(10,20,(3,3))\n",
        "print(rand2)"
      ],
      "metadata": {
        "colab": {
          "base_uri": "https://localhost:8080/"
        },
        "id": "lMj5TDvc3jwO",
        "outputId": "786587cd-c15b-4d58-c81a-c407005d6c5e"
      },
      "execution_count": 20,
      "outputs": [
        {
          "output_type": "stream",
          "name": "stdout",
          "text": [
            "[[0.99415842 0.1445596  0.54061559]\n",
            " [0.24597317 0.75881651 0.63103307]\n",
            " [0.4401671  0.80810151 0.78525629]]\n",
            "[[10 14 18]\n",
            " [16 12 18]\n",
            " [16 17 16]]\n"
          ]
        }
      ]
    },
    {
      "cell_type": "code",
      "source": [
        "#Array properties\n",
        "\n",
        "arr = np.array([[1,2,3,4],[2,3,4,5]])\n",
        "print(arr)\n",
        "\n",
        "#Shape or array\n",
        "print(f'shape of the array is {arr.shape}')\n",
        "\n",
        "#Size of array\n",
        "print(f'size of the array is {arr.size}')\n",
        "\n",
        "#Datatype of array\n",
        "print(f'Data type of the array is {arr.dtype}')\n",
        "\n",
        "#Dimensions of array\n",
        "print(f'The Dimension of the array is {arr.ndim}')"
      ],
      "metadata": {
        "colab": {
          "base_uri": "https://localhost:8080/"
        },
        "id": "jWoLzGMS4op9",
        "outputId": "07b4e87b-162f-4161-f6c2-734a1aa9449d"
      },
      "execution_count": 25,
      "outputs": [
        {
          "output_type": "stream",
          "name": "stdout",
          "text": [
            "[[1 2 3 4]\n",
            " [2 3 4 5]]\n",
            "shape of the array is (2, 4)\n",
            "size of the array is 8\n",
            "Data type of the array is int64\n",
            "The Dimension of the array is 2\n"
          ]
        }
      ]
    },
    {
      "cell_type": "code",
      "source": [
        "# Indexing and sliding\n",
        "# Access the elements in 1D array\n",
        "\n",
        "arr = np.array([1,2,3,4])\n",
        "print(arr)\n",
        "print(arr[3])\n",
        "\n",
        "\n",
        "# sliding the elements\n",
        "print(arr[0:3])\n",
        "\n",
        "#Access the elements in 2D array\n",
        "arr2 = np.array([[1,2,3],[2,3,4]])\n",
        "print(arr2)\n",
        "print(arr2[1,1])\n",
        "print(arr2[0,:]) #First row with all columns\n",
        "print(arr2[:,0]) #First column all rows"
      ],
      "metadata": {
        "colab": {
          "base_uri": "https://localhost:8080/"
        },
        "id": "JRGRWqpy7roh",
        "outputId": "e891c07e-cbb5-42a5-8567-aad4c2f35161"
      },
      "execution_count": 30,
      "outputs": [
        {
          "output_type": "stream",
          "name": "stdout",
          "text": [
            "[1 2 3 4]\n",
            "4\n",
            "[1 2 3]\n",
            "[[1 2 3]\n",
            " [2 3 4]]\n",
            "3\n",
            "[1 2 3]\n",
            "[1 2]\n"
          ]
        }
      ]
    },
    {
      "cell_type": "code",
      "source": [
        "l1 = np.arange(10,-10,-1)\n",
        "print(l1)"
      ],
      "metadata": {
        "colab": {
          "base_uri": "https://localhost:8080/"
        },
        "id": "E1nzd97nAmXd",
        "outputId": "82d44a55-f45a-49b9-c7c2-8323ef93377e"
      },
      "execution_count": 36,
      "outputs": [
        {
          "output_type": "stream",
          "name": "stdout",
          "text": [
            "[10  9  8  7  6  5  4  3  2  1  0 -1 -2 -3 -4 -5 -6 -7 -8 -9]\n"
          ]
        }
      ]
    },
    {
      "cell_type": "code",
      "source": [
        "# mathematical operations\n",
        "\n",
        "a = np.array([1,2,3])\n",
        "b = np.array([4,5,6])\n",
        "print(f'The sum of a and b is {a+b}')\n",
        "print(f'The diff of a and b is {a-b}')\n",
        "print(f'The product of a and b is {a*b}')\n",
        "print(f'The division of a and b is {a/b}')"
      ],
      "metadata": {
        "colab": {
          "base_uri": "https://localhost:8080/"
        },
        "id": "IwSrn1l8B4cG",
        "outputId": "c17ac59e-a2be-4d1c-fac6-534f40c292fd"
      },
      "execution_count": 37,
      "outputs": [
        {
          "output_type": "stream",
          "name": "stdout",
          "text": [
            "The sum of a and b is [5 7 9]\n",
            "The diff of a and b is [-3 -3 -3]\n",
            "The product of a and b is [ 4 10 18]\n",
            "The division of a and b is [0.25 0.4  0.5 ]\n"
          ]
        }
      ]
    },
    {
      "cell_type": "code",
      "source": [
        "#matrix multiplication\n",
        "b1 = np.array([[1,2,3],[4,5,6]])\n",
        "b2 = np.array([[5,5],[8,8],[1,8]])\n",
        "\n",
        "#Dot product ---product = AB -- A m x n -- B n x p\n",
        "c = np.dot(b1,b2)\n",
        "print(c)"
      ],
      "metadata": {
        "colab": {
          "base_uri": "https://localhost:8080/"
        },
        "id": "wm9RqfZ2DI88",
        "outputId": "0e956784-e2ea-4610-e927-9ea8ff8eb58b"
      },
      "execution_count": 43,
      "outputs": [
        {
          "output_type": "stream",
          "name": "stdout",
          "text": [
            "[[ 24  45]\n",
            " [ 66 108]]\n"
          ]
        }
      ]
    },
    {
      "cell_type": "code",
      "source": [
        "print(b1)"
      ],
      "metadata": {
        "colab": {
          "base_uri": "https://localhost:8080/"
        },
        "id": "b5k5GE-iEur4",
        "outputId": "3f0be59b-7203-47c6-9cbb-3a0f628a2514"
      },
      "execution_count": 44,
      "outputs": [
        {
          "output_type": "stream",
          "name": "stdout",
          "text": [
            "[[1 2 3]\n",
            " [4 5 6]]\n"
          ]
        }
      ]
    },
    {
      "cell_type": "code",
      "source": [
        "print(b2)"
      ],
      "metadata": {
        "colab": {
          "base_uri": "https://localhost:8080/"
        },
        "id": "4R1bvbAhEyHq",
        "outputId": "d3e0efcf-e79a-4300-f1e9-930fe4eedf17"
      },
      "execution_count": 45,
      "outputs": [
        {
          "output_type": "stream",
          "name": "stdout",
          "text": [
            "[[5 5]\n",
            " [8 8]\n",
            " [1 8]]\n"
          ]
        }
      ]
    },
    {
      "cell_type": "code",
      "source": [],
      "metadata": {
        "id": "Bi1Tp72hE71I"
      },
      "execution_count": null,
      "outputs": []
    }
  ]
}