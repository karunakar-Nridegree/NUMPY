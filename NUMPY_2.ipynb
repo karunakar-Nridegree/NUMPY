{
  "nbformat": 4,
  "nbformat_minor": 0,
  "metadata": {
    "colab": {
      "provenance": [],
      "authorship_tag": "ABX9TyNDa1uCOA6W9OH2cwPVxt73",
      "include_colab_link": true
    },
    "kernelspec": {
      "name": "python3",
      "display_name": "Python 3"
    },
    "language_info": {
      "name": "python"
    }
  },
  "cells": [
    {
      "cell_type": "markdown",
      "metadata": {
        "id": "view-in-github",
        "colab_type": "text"
      },
      "source": [
        "<a href=\"https://colab.research.google.com/github/karunakar-Nridegree/NUMPY/blob/main/NUMPY_2.ipynb\" target=\"_parent\"><img src=\"https://colab.research.google.com/assets/colab-badge.svg\" alt=\"Open In Colab\"/></a>"
      ]
    },
    {
      "cell_type": "code",
      "execution_count": null,
      "metadata": {
        "id": "vrwHnYS-3KCy"
      },
      "outputs": [],
      "source": [
        "import numpy as np"
      ]
    },
    {
      "cell_type": "code",
      "source": [
        "arr = np.array([[1,2,3],[4,5,6]])"
      ],
      "metadata": {
        "id": "xWp06ZPl3Xav"
      },
      "execution_count": null,
      "outputs": []
    },
    {
      "cell_type": "code",
      "source": [
        "type(arr)"
      ],
      "metadata": {
        "colab": {
          "base_uri": "https://localhost:8080/"
        },
        "id": "OWrGPjvF31ek",
        "outputId": "ad25c67a-12ce-4d58-b513-a558c14631d9"
      },
      "execution_count": null,
      "outputs": [
        {
          "output_type": "execute_result",
          "data": {
            "text/plain": [
              "numpy.ndarray"
            ]
          },
          "metadata": {},
          "execution_count": 3
        }
      ]
    },
    {
      "cell_type": "code",
      "source": [
        "arr1 = np.random.randint(1,2,(3,1))"
      ],
      "metadata": {
        "id": "60zmlq8z4IGf"
      },
      "execution_count": 4,
      "outputs": []
    },
    {
      "cell_type": "code",
      "source": [
        "arr.shape\n",
        "arr1.shape"
      ],
      "metadata": {
        "colab": {
          "base_uri": "https://localhost:8080/"
        },
        "id": "bU4dzrM248CE",
        "outputId": "4c2be985-99b9-4ff3-c227-c96d81f9ac05"
      },
      "execution_count": 6,
      "outputs": [
        {
          "output_type": "execute_result",
          "data": {
            "text/plain": [
              "(3, 1)"
            ]
          },
          "metadata": {},
          "execution_count": 6
        }
      ]
    },
    {
      "cell_type": "code",
      "source": [
        "arr.size"
      ],
      "metadata": {
        "colab": {
          "base_uri": "https://localhost:8080/"
        },
        "id": "qbqz4wuh5Rdl",
        "outputId": "abdc8de0-4b15-4f11-bfec-3de7cc133b1c"
      },
      "execution_count": 7,
      "outputs": [
        {
          "output_type": "execute_result",
          "data": {
            "text/plain": [
              "6"
            ]
          },
          "metadata": {},
          "execution_count": 7
        }
      ]
    },
    {
      "cell_type": "code",
      "source": [
        "result = np.dot(arr,arr1)"
      ],
      "metadata": {
        "id": "3IpnaBk05WHj"
      },
      "execution_count": 8,
      "outputs": []
    },
    {
      "cell_type": "code",
      "source": [
        "print(result)"
      ],
      "metadata": {
        "colab": {
          "base_uri": "https://localhost:8080/"
        },
        "id": "MpDynhOf5cep",
        "outputId": "ab51cce3-6781-4153-c219-4347e8fa05b2"
      },
      "execution_count": 9,
      "outputs": [
        {
          "output_type": "stream",
          "name": "stdout",
          "text": [
            "[[ 6]\n",
            " [15]]\n"
          ]
        }
      ]
    },
    {
      "cell_type": "code",
      "source": [
        "r1 = np.random.randint(10,20,(3,3))\n",
        "print(r1)"
      ],
      "metadata": {
        "colab": {
          "base_uri": "https://localhost:8080/"
        },
        "id": "MCDR_C-C5g8s",
        "outputId": "ec0542c6-f989-4811-f8df-1a84c03af923"
      },
      "execution_count": 15,
      "outputs": [
        {
          "output_type": "stream",
          "name": "stdout",
          "text": [
            "[[18 10 19]\n",
            " [15 14 18]\n",
            " [12 16 15]]\n"
          ]
        }
      ]
    },
    {
      "cell_type": "code",
      "source": [
        "r1 = np.eye(3)\n",
        "print(r1)"
      ],
      "metadata": {
        "colab": {
          "base_uri": "https://localhost:8080/"
        },
        "id": "B73wVb4i5zWp",
        "outputId": "b63a760a-d04a-4fa8-d8dd-dabd034d1c45"
      },
      "execution_count": 17,
      "outputs": [
        {
          "output_type": "stream",
          "name": "stdout",
          "text": [
            "[[1. 0. 0.]\n",
            " [0. 1. 0.]\n",
            " [0. 0. 1.]]\n"
          ]
        }
      ]
    },
    {
      "cell_type": "code",
      "source": [
        "r2 = np.eye(4)\n",
        "print(r2)"
      ],
      "metadata": {
        "colab": {
          "base_uri": "https://localhost:8080/"
        },
        "id": "x00hB6rl7FLl",
        "outputId": "6f49c44c-db53-4539-fdc1-a5a24c7ccf3e"
      },
      "execution_count": 21,
      "outputs": [
        {
          "output_type": "stream",
          "name": "stdout",
          "text": [
            "[[1. 0. 0. 0.]\n",
            " [0. 1. 0. 0.]\n",
            " [0. 0. 1. 0.]\n",
            " [0. 0. 0. 1.]]\n"
          ]
        }
      ]
    },
    {
      "cell_type": "code",
      "source": [
        "r2 = np.eye(3) # Changed to (3,3) to match the dimensions of r1\n",
        "result2 = np.dot(r1, r2)\n",
        "print(result2)"
      ],
      "metadata": {
        "colab": {
          "base_uri": "https://localhost:8080/"
        },
        "id": "XOAkpDGk743T",
        "outputId": "0221ff03-a0f0-4d12-fff7-fc75788d2834"
      },
      "execution_count": 33,
      "outputs": [
        {
          "output_type": "stream",
          "name": "stdout",
          "text": [
            "[[1. 0. 0.]\n",
            " [0. 1. 0.]\n",
            " [0. 0. 1.]]\n"
          ]
        }
      ]
    },
    {
      "cell_type": "code",
      "source": [
        "# M.I.= I.M = M"
      ],
      "metadata": {
        "id": "d_03PXSy9XsH"
      },
      "execution_count": 34,
      "outputs": []
    },
    {
      "cell_type": "code",
      "source": [
        "# Mathematical Operations\n",
        "# + - * /\n",
        "t1 = np.random.randint(3,6,(3,3))\n",
        "t2 = np.random.randint(2,6,(3,3))"
      ],
      "metadata": {
        "id": "rqmQzfAI9ux8"
      },
      "execution_count": 35,
      "outputs": []
    },
    {
      "cell_type": "code",
      "source": [
        "print(t1)\n",
        "print(t2)"
      ],
      "metadata": {
        "colab": {
          "base_uri": "https://localhost:8080/"
        },
        "id": "pFN-sZ-v9x9s",
        "outputId": "48978933-300b-4ec3-d578-2f71f6d2adce"
      },
      "execution_count": 36,
      "outputs": [
        {
          "output_type": "stream",
          "name": "stdout",
          "text": [
            "[[3 4 4]\n",
            " [4 4 5]\n",
            " [3 5 5]]\n",
            "[[5 2 2]\n",
            " [4 3 2]\n",
            " [3 2 3]]\n"
          ]
        }
      ]
    },
    {
      "cell_type": "code",
      "source": [
        "t3 = t1 + t2"
      ],
      "metadata": {
        "id": "sIBFLaiU91J3"
      },
      "execution_count": 37,
      "outputs": []
    },
    {
      "cell_type": "code",
      "source": [
        "print(t3)"
      ],
      "metadata": {
        "colab": {
          "base_uri": "https://localhost:8080/"
        },
        "id": "lZWYoce8-HZc",
        "outputId": "30c835e9-a721-4289-e753-46d9f50b74bb"
      },
      "execution_count": 38,
      "outputs": [
        {
          "output_type": "stream",
          "name": "stdout",
          "text": [
            "[[8 6 6]\n",
            " [8 7 7]\n",
            " [6 7 8]]\n"
          ]
        }
      ]
    },
    {
      "cell_type": "code",
      "source": [
        "# Matrix multiplication\n",
        "result = np.dot(arr,arr1)"
      ],
      "metadata": {
        "id": "EiGjfaTN-ME-"
      },
      "execution_count": 39,
      "outputs": []
    },
    {
      "cell_type": "code",
      "source": [
        "# Statistical operations\n",
        "mean = t3.mean()\n",
        "max = t3.max()\n",
        "median = np.median(t3)\n",
        "std = np.std(t3)\n",
        "var = np.var(t3)"
      ],
      "metadata": {
        "id": "s5Y2i-Hr-qbS"
      },
      "execution_count": 44,
      "outputs": []
    },
    {
      "cell_type": "code",
      "source": [
        "print(mean)\n",
        "print(max)\n",
        "print(median)\n",
        "print(std)\n",
        "print(var)"
      ],
      "metadata": {
        "colab": {
          "base_uri": "https://localhost:8080/"
        },
        "id": "ALNeBeBx-rE4",
        "outputId": "3b1e8a9d-c8c0-4cb2-c281-a25018816bf8"
      },
      "execution_count": 45,
      "outputs": [
        {
          "output_type": "stream",
          "name": "stdout",
          "text": [
            "7.0\n",
            "8\n",
            "7.0\n",
            "0.816496580927726\n",
            "0.6666666666666666\n"
          ]
        }
      ]
    },
    {
      "cell_type": "code",
      "source": [
        "std * std"
      ],
      "metadata": {
        "colab": {
          "base_uri": "https://localhost:8080/"
        },
        "id": "yS57Sh_P_PcE",
        "outputId": "005bb865-1672-42f8-f7e7-df23921a1b90"
      },
      "execution_count": 46,
      "outputs": [
        {
          "output_type": "execute_result",
          "data": {
            "text/plain": [
              "0.6666666666666666"
            ]
          },
          "metadata": {},
          "execution_count": 46
        }
      ]
    },
    {
      "cell_type": "code",
      "source": [
        "# Trignometric functions\n",
        "# sin(x)\n",
        "# cos(x)\n",
        "# Tan(x) - sin(x) / cos(x)\n",
        "# cosec -\n",
        "# sec - 1 / cos(x)\n",
        "# cot - 1 / tan(x)\n",
        "angles = np.array([0,15,30,45,60,75,90])\n",
        "result = np.sin(np.radians(angles))\n",
        "result1 = np.cos(np.radians(angles))\n",
        "result2 = np.tan(np.radians(angles))"
      ],
      "metadata": {
        "id": "kC3Gzj2S-uT5"
      },
      "execution_count": 47,
      "outputs": []
    },
    {
      "cell_type": "code",
      "source": [
        "print(result)\n",
        "print(result1)\n",
        "print(result2)"
      ],
      "metadata": {
        "colab": {
          "base_uri": "https://localhost:8080/"
        },
        "id": "J6dR7ge2AIGz",
        "outputId": "37f0762d-0775-4d3f-cb9a-fbee69e586fb"
      },
      "execution_count": 48,
      "outputs": [
        {
          "output_type": "stream",
          "name": "stdout",
          "text": [
            "[0.         0.25881905 0.5        0.70710678 0.8660254  0.96592583\n",
            " 1.        ]\n",
            "[1.00000000e+00 9.65925826e-01 8.66025404e-01 7.07106781e-01\n",
            " 5.00000000e-01 2.58819045e-01 6.12323400e-17]\n",
            "[0.00000000e+00 2.67949192e-01 5.77350269e-01 1.00000000e+00\n",
            " 1.73205081e+00 3.73205081e+00 1.63312394e+16]\n"
          ]
        }
      ]
    },
    {
      "cell_type": "code",
      "source": [
        "arr = np.array([[1,1,2,4,5,6]])\n",
        "# Reshpa the array\n",
        "reshapedarr = arr.reshape(3,2)\n",
        "print(reshapedarr)\n",
        "# Convert / arr.flatten any n dim array\n",
        "flattendarr = arr.flatten()\n",
        "print(flattendarr)"
      ],
      "metadata": {
        "colab": {
          "base_uri": "https://localhost:8080/"
        },
        "id": "U-CLOaPEGHpr",
        "outputId": "c8b1ae3b-17d1-45e9-c20c-ed6e2fa8be2b"
      },
      "execution_count": 53,
      "outputs": [
        {
          "output_type": "stream",
          "name": "stdout",
          "text": [
            "[[1 1]\n",
            " [2 4]\n",
            " [5 6]]\n",
            "[1 1 2 4 5 6]\n"
          ]
        }
      ]
    },
    {
      "cell_type": "code",
      "source": [
        "# Stacking the data\n",
        "arr1 = np.array([[1,2,3,4],[2,3,4,5]])\n",
        "arr2 = np.array([10,20,30,40])\n",
        "\n",
        "arr3 = np.vstack((arr1,arr2))\n",
        "print(f'The shape of arr3 is {arr3.shape}')\n",
        "\n",
        "# Horizantal Stacking\n",
        "arr4 = np.hstack((arr1,arr2.reshape(2,2)))\n",
        "print(f'The shape of arr4 is {arr4.shape}')\n",
        "print(arr4)"
      ],
      "metadata": {
        "colab": {
          "base_uri": "https://localhost:8080/"
        },
        "id": "u9BA9vh5B0en",
        "outputId": "0871947a-66a0-4e5e-e61e-458630cb7a38"
      },
      "execution_count": 54,
      "outputs": [
        {
          "output_type": "stream",
          "name": "stdout",
          "text": [
            "The shape of arr3 is (3, 4)\n",
            "The shape of arr4 is (2, 6)\n",
            "[[ 1  2  3  4 10 20]\n",
            " [ 2  3  4  5 30 40]]\n"
          ]
        }
      ]
    },
    {
      "cell_type": "code",
      "source": [
        "# Filtering\n",
        "arr = np.array([10,20,30,40,50,60,70,80])\n",
        "\n",
        "farr = arr [arr > 40]\n",
        "\n",
        "print(farr)"
      ],
      "metadata": {
        "colab": {
          "base_uri": "https://localhost:8080/"
        },
        "id": "j5iErayAGRKN",
        "outputId": "79f7365b-f0c0-4cfc-fa8b-dad26f65a940"
      },
      "execution_count": 61,
      "outputs": [
        {
          "output_type": "stream",
          "name": "stdout",
          "text": [
            "[50 60 70 80]\n"
          ]
        }
      ]
    },
    {
      "cell_type": "code",
      "source": [],
      "metadata": {
        "id": "DLRNfo9-Hj8z"
      },
      "execution_count": null,
      "outputs": []
    },
    {
      "cell_type": "code",
      "source": [],
      "metadata": {
        "id": "m0nwygA2H88X"
      },
      "execution_count": null,
      "outputs": []
    }
  ]
}